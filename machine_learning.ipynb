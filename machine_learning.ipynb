{
  "nbformat": 4,
  "nbformat_minor": 0,
  "metadata": {
    "colab": {
      "provenance": []
    },
    "kernelspec": {
      "name": "python3",
      "display_name": "Python 3"
    },
    "language_info": {
      "name": "python"
    }
  },
  "cells": [
    {
      "cell_type": "markdown",
      "source": [
        "# Machine learning\n",
        "\n",
        "Can we predict particulate matter using machine learning algorithms?\n",
        "\n",
        "Let's try it"
      ],
      "metadata": {
        "id": "us74R-8bmPcU"
      }
    },
    {
      "cell_type": "markdown",
      "source": [
        "Import necessary packages"
      ],
      "metadata": {
        "id": "hew_6Mc3mW9L"
      }
    },
    {
      "cell_type": "code",
      "execution_count": 6,
      "metadata": {
        "colab": {
          "base_uri": "https://localhost:8080/",
          "height": 557
        },
        "id": "Av5PozG4mMsu",
        "outputId": "b749e179-f607-43a7-b383-a7ace895d12d"
      },
      "outputs": [
        {
          "output_type": "stream",
          "name": "stdout",
          "text": [
            "Cloning into 'ISIMIP_data'...\n",
            "warning: --local is ignored\n",
            "remote: Enumerating objects: 87, done.\u001b[K\n",
            "remote: Counting objects: 100% (6/6), done.\u001b[K\n",
            "remote: Compressing objects: 100% (6/6), done.\u001b[K\n",
            "remote: Total 87 (delta 1), reused 0 (delta 0), pack-reused 81\u001b[K\n",
            "Unpacking objects: 100% (87/87), done.\n",
            "/content/ISIMIP_data\n",
            "Looking in indexes: https://pypi.org/simple, https://us-python.pkg.dev/colab-wheels/public/simple/\n",
            "Collecting matplotlib==3.1.3\n",
            "  Downloading matplotlib-3.1.3-cp37-cp37m-manylinux1_x86_64.whl (13.1 MB)\n",
            "\u001b[K     |████████████████████████████████| 13.1 MB 5.9 MB/s \n",
            "\u001b[?25hRequirement already satisfied: python-dateutil>=2.1 in /usr/local/lib/python3.7/dist-packages (from matplotlib==3.1.3) (2.8.2)\n",
            "Requirement already satisfied: pyparsing!=2.0.4,!=2.1.2,!=2.1.6,>=2.0.1 in /usr/local/lib/python3.7/dist-packages (from matplotlib==3.1.3) (3.0.9)\n",
            "Requirement already satisfied: kiwisolver>=1.0.1 in /usr/local/lib/python3.7/dist-packages (from matplotlib==3.1.3) (1.4.4)\n",
            "Requirement already satisfied: cycler>=0.10 in /usr/local/lib/python3.7/dist-packages (from matplotlib==3.1.3) (0.11.0)\n",
            "Requirement already satisfied: numpy>=1.11 in /usr/local/lib/python3.7/dist-packages (from matplotlib==3.1.3) (1.21.6)\n",
            "Requirement already satisfied: typing-extensions in /usr/local/lib/python3.7/dist-packages (from kiwisolver>=1.0.1->matplotlib==3.1.3) (4.1.1)\n",
            "Requirement already satisfied: six>=1.5 in /usr/local/lib/python3.7/dist-packages (from python-dateutil>=2.1->matplotlib==3.1.3) (1.15.0)\n",
            "Installing collected packages: matplotlib\n",
            "  Attempting uninstall: matplotlib\n",
            "    Found existing installation: matplotlib 3.2.2\n",
            "    Uninstalling matplotlib-3.2.2:\n",
            "      Successfully uninstalled matplotlib-3.2.2\n",
            "Successfully installed matplotlib-3.1.3\n"
          ]
        },
        {
          "output_type": "display_data",
          "data": {
            "application/vnd.colab-display-data+json": {
              "pip_warning": {
                "packages": [
                  "matplotlib",
                  "mpl_toolkits"
                ]
              }
            }
          },
          "metadata": {}
        }
      ],
      "source": [
        "import pandas as pd\n",
        "import numpy as np\n",
        "#!python -m pip -y uninstall matplotlib\n",
        "\n",
        "import seaborn as sns\n",
        "!git clone -l -s https://github.com/ogunjosam/ISIMIP_data.git\n",
        "%cd ISIMIP_data\n",
        "from pyESN import ESN\n",
        "\n",
        "\n",
        "!pip install matplotlib==3.1.3\n",
        "import matplotlib.pyplot as plt\n",
        "from matplotlib import pyplot as plt\n",
        "from mpl_toolkits.axes_grid1 import host_subplot"
      ]
    },
    {
      "cell_type": "markdown",
      "source": [
        "Import data from Github"
      ],
      "metadata": {
        "id": "9axfUDOimdRz"
      }
    },
    {
      "cell_type": "code",
      "source": [
        "url  = 'https://github.com/ogunjosam/CARNASRDA_python_training/raw/main/osogbo.csv'\n",
        "\n",
        "# we select column and set index columns\n",
        "xx = pd.read_csv(url,index_col='created_at',usecols=[0,2,3,4,7,8],parse_dates=True)\n",
        "xx['PM1.0_CF1_ug/m3'][xx['PM1.0_CF1_ug/m3'] > 300] = np.nan\n",
        "xx['PM2.5_CF1_ug/m3'][xx['PM2.5_CF1_ug/m3'] > 300] = np.nan\n",
        "xx['PM10.0_CF1_ug/m3'][xx['PM10.0_CF1_ug/m3'] > 300] = np.nan\n",
        "xx = xx.resample('H').mean()\n",
        "xx = xx.dropna(how='any')\n",
        "xx\n",
        "\n",
        "trainlen, future = 340, 25\n",
        "\n",
        "esn = ESN(n_inputs = 1,\n",
        "          n_outputs = 1,\n",
        "          n_reservoir = 250,\n",
        "          spectral_radius = 0.40,\n",
        "          teacher_forcing = False,\n",
        "          teacher_scaling = 1.9,\n",
        "          random_state=42)\n",
        "  \n",
        "\n",
        "pred_training = esn.fit(np.ones(trainlen),xx['PM10.0_CF1_ug/m3'][:trainlen].values)\n",
        "\n",
        "prediction = esn.predict(np.ones(future))\n",
        "\n",
        "\n",
        "\n",
        "pred_training, prediction\n",
        "\n",
        "plt.plot(range(0,trainlen+future),xx['PM10.0_CF1_ug/m3'][0:trainlen+future],'k',label=\"target system\")\n",
        "plt.plot(range(trainlen,trainlen+future),prediction,'r', label=\"free running ESN\")\n",
        "plt.xlim([300,360])\n",
        "#lo,hi = plt.set_ylim()\n",
        "#plt.plot([trainlen,trainlen],[lo+np.spacing(1),hi-np.spacing(1)],'k:')"
      ],
      "metadata": {
        "colab": {
          "base_uri": "https://localhost:8080/",
          "height": 282
        },
        "id": "7LfBcrXfmg7u",
        "outputId": "9fbd8d50-ffbd-4dd7-9e21-1bfc8c1c5154"
      },
      "execution_count": 20,
      "outputs": [
        {
          "output_type": "execute_result",
          "data": {
            "text/plain": [
              "(300.0, 360.0)"
            ]
          },
          "metadata": {},
          "execution_count": 20
        },
        {
          "output_type": "display_data",
          "data": {
            "text/plain": [
              "<Figure size 432x288 with 1 Axes>"
            ],
            "image/png": "[encoded data removed]"
          },
          "metadata": {
            "needs_background": "light"
          }
        }
      ]
    }
  ]
}