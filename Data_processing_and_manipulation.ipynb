{
  "nbformat": 4,
  "nbformat_minor": 0,
  "metadata": {
    "colab": {
      "name": "Data processing and manipulation.ipynb",
      "provenance": [],
      "authorship_tag": "ABX9TyOYUMXasHwsxQdtsXEVTFIe"
    },
    "kernelspec": {
      "name": "python3",
      "display_name": "Python 3"
    },
    "language_info": {
      "name": "python"
    }
  },
  "cells": [
    {
      "cell_type": "markdown",
      "source": [
        "# Data processing and manipulation\n",
        "\n",
        "Our goal in this session is to:\n",
        "\n",
        "\n",
        "1.   Process data acquired from previous session\n",
        "2.   manipulate the data through various analytical methods\n",
        "\n"
      ],
      "metadata": {
        "id": "3E75P3htCqPH"
      }
    },
    {
      "cell_type": "markdown",
      "source": [
        "First, import the necessary packages"
      ],
      "metadata": {
        "id": "EKYzMMZpDLmr"
      }
    },
    {
      "cell_type": "code",
      "execution_count": 1,
      "metadata": {
        "colab": {
          "base_uri": "https://localhost:8080/"
        },
        "id": "4WJWeadTCkzW",
        "outputId": "78607be4-fe11-4eaf-9a46-cfecaa9d4efe"
      },
      "outputs": [
        {
          "output_type": "stream",
          "name": "stdout",
          "text": [
            "Collecting purpleair\n",
            "  Downloading purpleair-1.2.5-py3-none-any.whl (27 kB)\n",
            "Requirement already satisfied: pandas in /usr/local/lib/python3.7/dist-packages (from purpleair) (1.3.5)\n",
            "Requirement already satisfied: requests in /usr/local/lib/python3.7/dist-packages (from purpleair) (2.23.0)\n",
            "Requirement already satisfied: geopy in /usr/local/lib/python3.7/dist-packages (from purpleair) (1.17.0)\n",
            "Collecting thingspeak\n",
            "  Downloading thingspeak-1.0.0-py3-none-any.whl (20 kB)\n",
            "Collecting requests-cache\n",
            "  Downloading requests_cache-0.9.2-py3-none-any.whl (46 kB)\n",
            "\u001b[K     |████████████████████████████████| 46 kB 3.6 MB/s \n",
            "\u001b[?25hRequirement already satisfied: geographiclib<2,>=1.49 in /usr/local/lib/python3.7/dist-packages (from geopy->purpleair) (1.52)\n",
            "Requirement already satisfied: pytz>=2017.3 in /usr/local/lib/python3.7/dist-packages (from pandas->purpleair) (2018.9)\n",
            "Requirement already satisfied: numpy>=1.17.3 in /usr/local/lib/python3.7/dist-packages (from pandas->purpleair) (1.21.5)\n",
            "Requirement already satisfied: python-dateutil>=2.7.3 in /usr/local/lib/python3.7/dist-packages (from pandas->purpleair) (2.8.2)\n",
            "Requirement already satisfied: six>=1.5 in /usr/local/lib/python3.7/dist-packages (from python-dateutil>=2.7.3->pandas->purpleair) (1.15.0)\n",
            "Requirement already satisfied: certifi>=2017.4.17 in /usr/local/lib/python3.7/dist-packages (from requests->purpleair) (2021.10.8)\n",
            "Requirement already satisfied: urllib3!=1.25.0,!=1.25.1,<1.26,>=1.21.1 in /usr/local/lib/python3.7/dist-packages (from requests->purpleair) (1.24.3)\n",
            "Requirement already satisfied: idna<3,>=2.5 in /usr/local/lib/python3.7/dist-packages (from requests->purpleair) (2.10)\n",
            "Requirement already satisfied: chardet<4,>=3.0.2 in /usr/local/lib/python3.7/dist-packages (from requests->purpleair) (3.0.4)\n",
            "Collecting cattrs<2.0,>=1.8\n",
            "  Downloading cattrs-1.10.0-py3-none-any.whl (29 kB)\n",
            "Collecting url-normalize<2.0,>=1.4\n",
            "  Downloading url_normalize-1.4.3-py2.py3-none-any.whl (6.8 kB)\n",
            "Requirement already satisfied: attrs<22.0,>=21.2 in /usr/local/lib/python3.7/dist-packages (from requests-cache->purpleair) (21.4.0)\n",
            "Requirement already satisfied: appdirs<2.0.0,>=1.4.4 in /usr/local/lib/python3.7/dist-packages (from requests-cache->purpleair) (1.4.4)\n",
            "Collecting urllib3!=1.25.0,!=1.25.1,<1.26,>=1.21.1\n",
            "  Downloading urllib3-1.25.11-py2.py3-none-any.whl (127 kB)\n",
            "\u001b[K     |████████████████████████████████| 127 kB 8.7 MB/s \n",
            "\u001b[?25hRequirement already satisfied: typing_extensions in /usr/local/lib/python3.7/dist-packages (from cattrs<2.0,>=1.8->requests-cache->purpleair) (3.10.0.2)\n",
            "Requirement already satisfied: docopt<0.7.0,>=0.6.2 in /usr/local/lib/python3.7/dist-packages (from thingspeak->purpleair) (0.6.2)\n",
            "Installing collected packages: urllib3, url-normalize, cattrs, thingspeak, requests-cache, purpleair\n",
            "  Attempting uninstall: urllib3\n",
            "    Found existing installation: urllib3 1.24.3\n",
            "    Uninstalling urllib3-1.24.3:\n",
            "      Successfully uninstalled urllib3-1.24.3\n",
            "\u001b[31mERROR: pip's dependency resolver does not currently take into account all the packages that are installed. This behaviour is the source of the following dependency conflicts.\n",
            "datascience 0.10.6 requires folium==0.2.1, but you have folium 0.8.3 which is incompatible.\u001b[0m\n",
            "Successfully installed cattrs-1.10.0 purpleair-1.2.5 requests-cache-0.9.2 thingspeak-1.0.0 url-normalize-1.4.3 urllib3-1.25.11\n"
          ]
        }
      ],
      "source": [
        "!pip install purpleair\n",
        "\n",
        "import pandas as pd\n",
        "from purpleair.sensor import Sensor\n",
        "from purpleair.network import SensorList\n",
        "from scipy import stats\n",
        "import numpy as np"
      ]
    },
    {
      "cell_type": "markdown",
      "source": [
        "Let's reacquire the code for my favourite Purpleair station in Nigeria"
      ],
      "metadata": {
        "id": "_GttPatVDW30"
      }
    },
    {
      "cell_type": "code",
      "source": [
        "se = Sensor(57207)\n",
        "df = se.parent.get_historical(52,thingspeak_field='primary')\n",
        "df"
      ],
      "metadata": {
        "colab": {
          "base_uri": "https://localhost:8080/",
          "height": 690
        },
        "id": "tmsSyF2EDqo0",
        "outputId": "8fcbb320-82f7-4cf9-8865-2b9efba56dd1"
      },
      "execution_count": 3,
      "outputs": [
        {
          "output_type": "execute_result",
          "data": {
            "text/html": [
              "\n",
              "  <div id=\"df-3116c522-13c8-46b0-b368-7e59da058a46\">\n",
              "    <div class=\"colab-df-container\">\n",
              "      <div>\n",
              "<style scoped>\n",
              "    .dataframe tbody tr th:only-of-type {\n",
              "        vertical-align: middle;\n",
              "    }\n",
              "\n",
              "    .dataframe tbody tr th {\n",
              "        vertical-align: top;\n",
              "    }\n",
              "\n",
              "    .dataframe thead th {\n",
              "        text-align: right;\n",
              "    }\n",
              "</style>\n",
              "<table border=\"1\" class=\"dataframe\">\n",
              "  <thead>\n",
              "    <tr style=\"text-align: right;\">\n",
              "      <th></th>\n",
              "      <th>created_at</th>\n",
              "      <th>PM1.0 (CF=1) ug/m3</th>\n",
              "      <th>PM2.5 (CF=1) ug/m3</th>\n",
              "      <th>PM10.0 (CF=1) ug/m3</th>\n",
              "      <th>UptimeMinutes</th>\n",
              "      <th>ADC</th>\n",
              "      <th>Temperature_F</th>\n",
              "      <th>Humidity_%</th>\n",
              "      <th>PM2.5 (CF=ATM) ug/m3</th>\n",
              "    </tr>\n",
              "    <tr>\n",
              "      <th>entry_id</th>\n",
              "      <th></th>\n",
              "      <th></th>\n",
              "      <th></th>\n",
              "      <th></th>\n",
              "      <th></th>\n",
              "      <th></th>\n",
              "      <th></th>\n",
              "      <th></th>\n",
              "      <th></th>\n",
              "    </tr>\n",
              "  </thead>\n",
              "  <tbody>\n",
              "    <tr>\n",
              "      <th>297415</th>\n",
              "      <td>2022-02-13 00:00:16+00:00</td>\n",
              "      <td>70.94</td>\n",
              "      <td>95.19</td>\n",
              "      <td>115.62</td>\n",
              "      <td>28282.0</td>\n",
              "      <td>-68.0</td>\n",
              "      <td>84.0</td>\n",
              "      <td>55.0</td>\n",
              "      <td>62.74</td>\n",
              "    </tr>\n",
              "    <tr>\n",
              "      <th>297416</th>\n",
              "      <td>2022-02-13 00:02:13+00:00</td>\n",
              "      <td>68.93</td>\n",
              "      <td>95.93</td>\n",
              "      <td>116.14</td>\n",
              "      <td>28284.0</td>\n",
              "      <td>-64.0</td>\n",
              "      <td>84.0</td>\n",
              "      <td>55.0</td>\n",
              "      <td>63.26</td>\n",
              "    </tr>\n",
              "    <tr>\n",
              "      <th>297417</th>\n",
              "      <td>2022-02-13 00:04:13+00:00</td>\n",
              "      <td>70.16</td>\n",
              "      <td>95.07</td>\n",
              "      <td>116.88</td>\n",
              "      <td>28286.0</td>\n",
              "      <td>-68.0</td>\n",
              "      <td>84.0</td>\n",
              "      <td>55.0</td>\n",
              "      <td>62.73</td>\n",
              "    </tr>\n",
              "    <tr>\n",
              "      <th>297418</th>\n",
              "      <td>2022-02-13 00:06:13+00:00</td>\n",
              "      <td>70.14</td>\n",
              "      <td>95.88</td>\n",
              "      <td>113.88</td>\n",
              "      <td>28288.0</td>\n",
              "      <td>-69.0</td>\n",
              "      <td>84.0</td>\n",
              "      <td>55.0</td>\n",
              "      <td>63.00</td>\n",
              "    </tr>\n",
              "    <tr>\n",
              "      <th>297419</th>\n",
              "      <td>2022-02-13 00:08:13+00:00</td>\n",
              "      <td>69.24</td>\n",
              "      <td>94.57</td>\n",
              "      <td>115.67</td>\n",
              "      <td>28290.0</td>\n",
              "      <td>-69.0</td>\n",
              "      <td>84.0</td>\n",
              "      <td>55.0</td>\n",
              "      <td>62.35</td>\n",
              "    </tr>\n",
              "    <tr>\n",
              "      <th>...</th>\n",
              "      <td>...</td>\n",
              "      <td>...</td>\n",
              "      <td>...</td>\n",
              "      <td>...</td>\n",
              "      <td>...</td>\n",
              "      <td>...</td>\n",
              "      <td>...</td>\n",
              "      <td>...</td>\n",
              "      <td>...</td>\n",
              "    </tr>\n",
              "    <tr>\n",
              "      <th>71110</th>\n",
              "      <td>2021-02-20 23:50:54+00:00</td>\n",
              "      <td>108.79</td>\n",
              "      <td>171.10</td>\n",
              "      <td>221.83</td>\n",
              "      <td>16354.0</td>\n",
              "      <td>-66.0</td>\n",
              "      <td>77.0</td>\n",
              "      <td>41.0</td>\n",
              "      <td>113.25</td>\n",
              "    </tr>\n",
              "    <tr>\n",
              "      <th>71111</th>\n",
              "      <td>2021-02-20 23:52:54+00:00</td>\n",
              "      <td>110.39</td>\n",
              "      <td>174.27</td>\n",
              "      <td>228.09</td>\n",
              "      <td>16356.0</td>\n",
              "      <td>-65.0</td>\n",
              "      <td>77.0</td>\n",
              "      <td>42.0</td>\n",
              "      <td>115.54</td>\n",
              "    </tr>\n",
              "    <tr>\n",
              "      <th>71112</th>\n",
              "      <td>2021-02-20 23:54:54+00:00</td>\n",
              "      <td>109.49</td>\n",
              "      <td>167.75</td>\n",
              "      <td>219.07</td>\n",
              "      <td>16358.0</td>\n",
              "      <td>-66.0</td>\n",
              "      <td>77.0</td>\n",
              "      <td>42.0</td>\n",
              "      <td>111.11</td>\n",
              "    </tr>\n",
              "    <tr>\n",
              "      <th>71113</th>\n",
              "      <td>2021-02-20 23:56:54+00:00</td>\n",
              "      <td>109.79</td>\n",
              "      <td>173.95</td>\n",
              "      <td>223.21</td>\n",
              "      <td>16360.0</td>\n",
              "      <td>-63.0</td>\n",
              "      <td>77.0</td>\n",
              "      <td>42.0</td>\n",
              "      <td>115.26</td>\n",
              "    </tr>\n",
              "    <tr>\n",
              "      <th>71114</th>\n",
              "      <td>2021-02-20 23:58:54+00:00</td>\n",
              "      <td>109.04</td>\n",
              "      <td>172.11</td>\n",
              "      <td>222.31</td>\n",
              "      <td>16362.0</td>\n",
              "      <td>-63.0</td>\n",
              "      <td>77.0</td>\n",
              "      <td>42.0</td>\n",
              "      <td>114.04</td>\n",
              "    </tr>\n",
              "  </tbody>\n",
              "</table>\n",
              "<p>236380 rows × 9 columns</p>\n",
              "</div>\n",
              "      <button class=\"colab-df-convert\" onclick=\"convertToInteractive('df-3116c522-13c8-46b0-b368-7e59da058a46')\"\n",
              "              title=\"Convert this dataframe to an interactive table.\"\n",
              "              style=\"display:none;\">\n",
              "        \n",
              "  <svg xmlns=\"http://www.w3.org/2000/svg\" height=\"24px\"viewBox=\"0 0 24 24\"\n",
              "       width=\"24px\">\n",
              "    <path d=\"M0 0h24v24H0V0z\" fill=\"none\"/>\n",
              "    <path d=\"M18.56 5.44l.94 2.06.94-2.06 2.06-.94-2.06-.94-.94-2.06-.94 2.06-2.06.94zm-11 1L8.5 8.5l.94-2.06 2.06-.94-2.06-.94L8.5 2.5l-.94 2.06-2.06.94zm10 10l.94 2.06.94-2.06 2.06-.94-2.06-.94-.94-2.06-.94 2.06-2.06.94z\"/><path d=\"M17.41 7.96l-1.37-1.37c-.4-.4-.92-.59-1.43-.59-.52 0-1.04.2-1.43.59L10.3 9.45l-7.72 7.72c-.78.78-.78 2.05 0 2.83L4 21.41c.39.39.9.59 1.41.59.51 0 1.02-.2 1.41-.59l7.78-7.78 2.81-2.81c.8-.78.8-2.07 0-2.86zM5.41 20L4 18.59l7.72-7.72 1.47 1.35L5.41 20z\"/>\n",
              "  </svg>\n",
              "      </button>\n",
              "      \n",
              "  <style>\n",
              "    .colab-df-container {\n",
              "      display:flex;\n",
              "      flex-wrap:wrap;\n",
              "      gap: 12px;\n",
              "    }\n",
              "\n",
              "    .colab-df-convert {\n",
              "      background-color: #E8F0FE;\n",
              "      border: none;\n",
              "      border-radius: 50%;\n",
              "      cursor: pointer;\n",
              "      display: none;\n",
              "      fill: #1967D2;\n",
              "      height: 32px;\n",
              "      padding: 0 0 0 0;\n",
              "      width: 32px;\n",
              "    }\n",
              "\n",
              "    .colab-df-convert:hover {\n",
              "      background-color: #E2EBFA;\n",
              "      box-shadow: 0px 1px 2px rgba(60, 64, 67, 0.3), 0px 1px 3px 1px rgba(60, 64, 67, 0.15);\n",
              "      fill: #174EA6;\n",
              "    }\n",
              "\n",
              "    [theme=dark] .colab-df-convert {\n",
              "      background-color: #3B4455;\n",
              "      fill: #D2E3FC;\n",
              "    }\n",
              "\n",
              "    [theme=dark] .colab-df-convert:hover {\n",
              "      background-color: #434B5C;\n",
              "      box-shadow: 0px 1px 3px 1px rgba(0, 0, 0, 0.15);\n",
              "      filter: drop-shadow(0px 1px 2px rgba(0, 0, 0, 0.3));\n",
              "      fill: #FFFFFF;\n",
              "    }\n",
              "  </style>\n",
              "\n",
              "      <script>\n",
              "        const buttonEl =\n",
              "          document.querySelector('#df-3116c522-13c8-46b0-b368-7e59da058a46 button.colab-df-convert');\n",
              "        buttonEl.style.display =\n",
              "          google.colab.kernel.accessAllowed ? 'block' : 'none';\n",
              "\n",
              "        async function convertToInteractive(key) {\n",
              "          const element = document.querySelector('#df-3116c522-13c8-46b0-b368-7e59da058a46');\n",
              "          const dataTable =\n",
              "            await google.colab.kernel.invokeFunction('convertToInteractive',\n",
              "                                                     [key], {});\n",
              "          if (!dataTable) return;\n",
              "\n",
              "          const docLinkHtml = 'Like what you see? Visit the ' +\n",
              "            '<a target=\"_blank\" href=https://colab.research.google.com/notebooks/data_table.ipynb>data table notebook</a>'\n",
              "            + ' to learn more about interactive tables.';\n",
              "          element.innerHTML = '';\n",
              "          dataTable['output_type'] = 'display_data';\n",
              "          await google.colab.output.renderOutput(dataTable, element);\n",
              "          const docLink = document.createElement('div');\n",
              "          docLink.innerHTML = docLinkHtml;\n",
              "          element.appendChild(docLink);\n",
              "        }\n",
              "      </script>\n",
              "    </div>\n",
              "  </div>\n",
              "  "
            ],
            "text/plain": [
              "                        created_at  ...  PM2.5 (CF=ATM) ug/m3\n",
              "entry_id                            ...                      \n",
              "297415   2022-02-13 00:00:16+00:00  ...                 62.74\n",
              "297416   2022-02-13 00:02:13+00:00  ...                 63.26\n",
              "297417   2022-02-13 00:04:13+00:00  ...                 62.73\n",
              "297418   2022-02-13 00:06:13+00:00  ...                 63.00\n",
              "297419   2022-02-13 00:08:13+00:00  ...                 62.35\n",
              "...                            ...  ...                   ...\n",
              "71110    2021-02-20 23:50:54+00:00  ...                113.25\n",
              "71111    2021-02-20 23:52:54+00:00  ...                115.54\n",
              "71112    2021-02-20 23:54:54+00:00  ...                111.11\n",
              "71113    2021-02-20 23:56:54+00:00  ...                115.26\n",
              "71114    2021-02-20 23:58:54+00:00  ...                114.04\n",
              "\n",
              "[236380 rows x 9 columns]"
            ]
          },
          "metadata": {},
          "execution_count": 3
        }
      ]
    },
    {
      "cell_type": "markdown",
      "source": [
        "This is a 2 min sampled data.  Can we resample it to hourly, 6-hourly, 12-hourly, or even daily mean?"
      ],
      "metadata": {
        "id": "qn-Rpic2FiGo"
      }
    },
    {
      "cell_type": "code",
      "source": [
        "# So that pandas can easily identify the date values, we make it the index values.\n",
        "df[\"created_at\"] = pd.DatetimeIndex(df[\"created_at\"])\n",
        "dx = df.set_index('created_at')   #ds = df.resample(on='created_at',rule='H').mean()\n",
        "dx_mean = dx.resample('D').mean()  # H, D, M, \n",
        "dx_sum = dx.resample('D').sum()\n",
        "\n",
        "dx_mean['Temperature_F'].plot()\n"
      ],
      "metadata": {
        "colab": {
          "base_uri": "https://localhost:8080/",
          "height": 310
        },
        "id": "rn539LQDFtej",
        "outputId": "cd61b870-a0e5-4a02-b61c-ff04d35962e0"
      },
      "execution_count": 36,
      "outputs": [
        {
          "output_type": "execute_result",
          "data": {
            "text/plain": [
              "<matplotlib.axes._subplots.AxesSubplot at 0x7f4767150a50>"
            ]
          },
          "metadata": {},
          "execution_count": 36
        },
        {
          "output_type": "display_data",
          "data": {
            "image/png": "[encoded data removed]",
            "text/plain": [
              "<Figure size 432x288 with 1 Axes>"
            ]
          },
          "metadata": {
            "needs_background": "light"
          }
        }
      ]
    },
    {
      "cell_type": "markdown",
      "source": [
        "Sometimes, we will need the moving average to get a clean picture of what is happening"
      ],
      "metadata": {
        "id": "m-57FAm3JHQQ"
      }
    },
    {
      "cell_type": "code",
      "source": [
        "d_ma = dx_mean.rolling(window=5).mean()\n",
        "d_ma['Temperature_F'].plot()"
      ],
      "metadata": {
        "colab": {
          "base_uri": "https://localhost:8080/",
          "height": 310
        },
        "id": "DupDopUlJMRP",
        "outputId": "b787a1e9-5c5b-4ff0-816e-996b4adec8c4"
      },
      "execution_count": 32,
      "outputs": [
        {
          "output_type": "execute_result",
          "data": {
            "text/plain": [
              "<matplotlib.axes._subplots.AxesSubplot at 0x7f4766a04210>"
            ]
          },
          "metadata": {},
          "execution_count": 32
        },
        {
          "output_type": "display_data",
          "data": {
            "image/png": "[encoded data removed]",
            "text/plain": [
              "<Figure size 432x288 with 1 Axes>"
            ]
          },
          "metadata": {
            "needs_background": "light"
          }
        }
      ]
    },
    {
      "cell_type": "markdown",
      "source": [
        "Is there any relationship between the variables in Purple air data?  Let's investigate."
      ],
      "metadata": {
        "id": "-_-f1TBLK2mC"
      }
    },
    {
      "cell_type": "code",
      "source": [
        "#we look at PM2.5 and temperature\n",
        "dx_mean = dx_mean.dropna(how='all')\n",
        "slope, intercept, r, p, se = stats.linregress(dx_mean['Temperature_F'],dx_mean['PM2.5 (CF=1) ug/m3'])\n",
        "\n",
        "slope, intercept, r, p, se\n",
        "\n"
      ],
      "metadata": {
        "colab": {
          "base_uri": "https://localhost:8080/"
        },
        "id": "ocgiQVfrK-Pd",
        "outputId": "29742fd0-b5fa-4616-8f11-17e1e68ffa3d"
      },
      "execution_count": 43,
      "outputs": [
        {
          "output_type": "execute_result",
          "data": {
            "text/plain": [
              "(19.074759460016427,\n",
              " -1530.7239384636814,\n",
              " 0.11702734848407213,\n",
              " 0.027034841074225414,\n",
              " 8.591382553118098)"
            ]
          },
          "metadata": {},
          "execution_count": 43
        }
      ]
    },
    {
      "cell_type": "markdown",
      "source": [
        "How does the correlation change over 7-day, 14-day, 30-day period?"
      ],
      "metadata": {
        "id": "tAv0tUFaNSAE"
      }
    },
    {
      "cell_type": "code",
      "source": [
        "dx_roll_corr = dx_mean['Temperature_F'].rolling(21).corr(dx_mean['PM2.5 (CF=1) ug/m3'])\n",
        "\n",
        "dx_roll_corr.plot()"
      ],
      "metadata": {
        "colab": {
          "base_uri": "https://localhost:8080/",
          "height": 300
        },
        "id": "92ojcu3tNZ2q",
        "outputId": "7e34682e-8d45-462b-b8c9-9fe763580bbe"
      },
      "execution_count": 46,
      "outputs": [
        {
          "output_type": "execute_result",
          "data": {
            "text/plain": [
              "<matplotlib.axes._subplots.AxesSubplot at 0x7f4766526d90>"
            ]
          },
          "metadata": {},
          "execution_count": 46
        },
        {
          "output_type": "display_data",
          "data": {
            "image/png": "[encoded data removed]",
            "text/plain": [
              "<Figure size 432x288 with 1 Axes>"
            ]
          },
          "metadata": {
            "needs_background": "light"
          }
        }
      ]
    }
  ]
}