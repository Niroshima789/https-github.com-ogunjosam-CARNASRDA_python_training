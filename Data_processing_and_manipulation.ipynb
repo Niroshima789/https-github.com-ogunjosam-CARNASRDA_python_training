{
  "cells": [
    {
      "cell_type": "markdown",
      "metadata": {
        "id": "view-in-github",
        "colab_type": "text"
      },
      "source": [
        "<a href=\"https://colab.research.google.com/github/ogunjosam/CARNASRDA_python_training/blob/main/Data_processing_and_manipulation.ipynb\" target=\"_parent\"><img src=\"https://colab.research.google.com/assets/colab-badge.svg\" alt=\"Open In Colab\"/></a>"
      ]
    },
    {
      "cell_type": "markdown",
      "metadata": {
        "id": "3E75P3htCqPH"
      },
      "source": [
        "# Data processing and manipulation\n",
        "\n",
        "Our goal in this session is to:\n",
        "\n",
        "\n",
        "1.   Process data acquired from previous session\n",
        "2.   manipulate the data through various analytical methods\n",
        "\n"
      ]
    },
    {
      "cell_type": "markdown",
      "metadata": {
        "id": "EKYzMMZpDLmr"
      },
      "source": [
        "First, import the necessary packages"
      ]
    },
    {
      "cell_type": "code",
      "execution_count": null,
      "metadata": {
        "colab": {
          "base_uri": "https://localhost:8080/"
        },
        "id": "4WJWeadTCkzW",
        "outputId": "2e6d5963-b596-483d-b93c-5565d6ebf123"
      },
      "outputs": [
        {
          "name": "stdout",
          "output_type": "stream",
          "text": [
            "Collecting purpleair\n",
            "  Downloading purpleair-1.2.5-py3-none-any.whl (27 kB)\n",
            "Requirement already satisfied: geopy in /usr/local/lib/python3.7/dist-packages (from purpleair) (1.17.0)\n",
            "Requirement already satisfied: pandas in /usr/local/lib/python3.7/dist-packages (from purpleair) (1.3.5)\n",
            "Collecting requests-cache\n",
            "  Downloading requests_cache-0.9.2-py3-none-any.whl (46 kB)\n",
            "\u001b[K     |████████████████████████████████| 46 kB 1.0 MB/s \n",
            "\u001b[?25hCollecting thingspeak\n",
            "  Downloading thingspeak-1.0.0-py3-none-any.whl (20 kB)\n",
            "Requirement already satisfied: requests in /usr/local/lib/python3.7/dist-packages (from purpleair) (2.23.0)\n",
            "Requirement already satisfied: geographiclib<2,>=1.49 in /usr/local/lib/python3.7/dist-packages (from geopy->purpleair) (1.52)\n",
            "Requirement already satisfied: numpy>=1.17.3 in /usr/local/lib/python3.7/dist-packages (from pandas->purpleair) (1.21.5)\n",
            "Requirement already satisfied: python-dateutil>=2.7.3 in /usr/local/lib/python3.7/dist-packages (from pandas->purpleair) (2.8.2)\n",
            "Requirement already satisfied: pytz>=2017.3 in /usr/local/lib/python3.7/dist-packages (from pandas->purpleair) (2018.9)\n",
            "Requirement already satisfied: six>=1.5 in /usr/local/lib/python3.7/dist-packages (from python-dateutil>=2.7.3->pandas->purpleair) (1.15.0)\n",
            "Requirement already satisfied: chardet<4,>=3.0.2 in /usr/local/lib/python3.7/dist-packages (from requests->purpleair) (3.0.4)\n",
            "Requirement already satisfied: idna<3,>=2.5 in /usr/local/lib/python3.7/dist-packages (from requests->purpleair) (2.10)\n",
            "Requirement already satisfied: urllib3!=1.25.0,!=1.25.1,<1.26,>=1.21.1 in /usr/local/lib/python3.7/dist-packages (from requests->purpleair) (1.24.3)\n",
            "Requirement already satisfied: certifi>=2017.4.17 in /usr/local/lib/python3.7/dist-packages (from requests->purpleair) (2021.10.8)\n",
            "Requirement already satisfied: attrs<22.0,>=21.2 in /usr/local/lib/python3.7/dist-packages (from requests-cache->purpleair) (21.4.0)\n",
            "Requirement already satisfied: appdirs<2.0.0,>=1.4.4 in /usr/local/lib/python3.7/dist-packages (from requests-cache->purpleair) (1.4.4)\n",
            "Collecting url-normalize<2.0,>=1.4\n",
            "  Downloading url_normalize-1.4.3-py2.py3-none-any.whl (6.8 kB)\n",
            "Collecting urllib3!=1.25.0,!=1.25.1,<1.26,>=1.21.1\n",
            "  Downloading urllib3-1.25.11-py2.py3-none-any.whl (127 kB)\n",
            "\u001b[K     |████████████████████████████████| 127 kB 11.3 MB/s \n",
            "\u001b[?25hCollecting cattrs<2.0,>=1.8\n",
            "  Downloading cattrs-1.10.0-py3-none-any.whl (29 kB)\n",
            "Requirement already satisfied: typing_extensions in /usr/local/lib/python3.7/dist-packages (from cattrs<2.0,>=1.8->requests-cache->purpleair) (3.10.0.2)\n",
            "Requirement already satisfied: docopt<0.7.0,>=0.6.2 in /usr/local/lib/python3.7/dist-packages (from thingspeak->purpleair) (0.6.2)\n",
            "Installing collected packages: urllib3, url-normalize, cattrs, thingspeak, requests-cache, purpleair\n",
            "  Attempting uninstall: urllib3\n",
            "    Found existing installation: urllib3 1.24.3\n",
            "    Uninstalling urllib3-1.24.3:\n",
            "      Successfully uninstalled urllib3-1.24.3\n",
            "\u001b[31mERROR: pip's dependency resolver does not currently take into account all the packages that are installed. This behaviour is the source of the following dependency conflicts.\n",
            "datascience 0.10.6 requires folium==0.2.1, but you have folium 0.8.3 which is incompatible.\u001b[0m\n",
            "Successfully installed cattrs-1.10.0 purpleair-1.2.5 requests-cache-0.9.2 thingspeak-1.0.0 url-normalize-1.4.3 urllib3-1.25.11\n"
          ]
        }
      ],
      "source": [
        "!pip install purpleair\n",
        "\n",
        "\n",
        "import pandas as pd\n",
        "from purpleair.sensor import Sensor\n",
        "from purpleair.network import SensorList\n",
        "from scipy import stats\n",
        "import numpy as np"
      ]
    },
    {
      "cell_type": "markdown",
      "metadata": {
        "id": "_GttPatVDW30"
      },
      "source": [
        "Let's reacquire the code for my favourite Purpleair station in Nigeria"
      ]
    },
    {
      "cell_type": "code",
      "execution_count": null,
      "metadata": {
        "colab": {
          "background_save": true
        },
        "id": "tmsSyF2EDqo0",
        "outputId": "2b899f8d-c300-49c5-d8c9-4a20c05ba323"
      },
      "outputs": [
        {
          "data": {
            "text/html": [
              "\n",
              "  <div id=\"df-4effc6da-7bc5-4980-a524-d39b94bababc\">\n",
              "    <div class=\"colab-df-container\">\n",
              "      <div>\n",
              "<style scoped>\n",
              "    .dataframe tbody tr th:only-of-type {\n",
              "        vertical-align: middle;\n",
              "    }\n",
              "\n",
              "    .dataframe tbody tr th {\n",
              "        vertical-align: top;\n",
              "    }\n",
              "\n",
              "    .dataframe thead th {\n",
              "        text-align: right;\n",
              "    }\n",
              "</style>\n",
              "<table border=\"1\" class=\"dataframe\">\n",
              "  <thead>\n",
              "    <tr style=\"text-align: right;\">\n",
              "      <th></th>\n",
              "      <th>created_at</th>\n",
              "      <th>PM1.0 (CF=1) ug/m3</th>\n",
              "      <th>PM2.5 (CF=1) ug/m3</th>\n",
              "      <th>PM10.0 (CF=1) ug/m3</th>\n",
              "      <th>UptimeMinutes</th>\n",
              "      <th>ADC</th>\n",
              "      <th>Temperature_F</th>\n",
              "      <th>Humidity_%</th>\n",
              "      <th>PM2.5 (CF=ATM) ug/m3</th>\n",
              "    </tr>\n",
              "    <tr>\n",
              "      <th>entry_id</th>\n",
              "      <th></th>\n",
              "      <th></th>\n",
              "      <th></th>\n",
              "      <th></th>\n",
              "      <th></th>\n",
              "      <th></th>\n",
              "      <th></th>\n",
              "      <th></th>\n",
              "      <th></th>\n",
              "    </tr>\n",
              "  </thead>\n",
              "  <tbody>\n",
              "    <tr>\n",
              "      <th>298135</th>\n",
              "      <td>2022-02-14 00:00:41+00:00</td>\n",
              "      <td>72.67</td>\n",
              "      <td>101.31</td>\n",
              "      <td>125.84</td>\n",
              "      <td>29722.0</td>\n",
              "      <td>-63.0</td>\n",
              "      <td>84.0</td>\n",
              "      <td>51.0</td>\n",
              "      <td>66.76</td>\n",
              "    </tr>\n",
              "    <tr>\n",
              "      <th>298136</th>\n",
              "      <td>2022-02-14 00:02:37+00:00</td>\n",
              "      <td>69.34</td>\n",
              "      <td>97.57</td>\n",
              "      <td>121.36</td>\n",
              "      <td>29724.0</td>\n",
              "      <td>-67.0</td>\n",
              "      <td>84.0</td>\n",
              "      <td>51.0</td>\n",
              "      <td>64.38</td>\n",
              "    </tr>\n",
              "    <tr>\n",
              "      <th>298137</th>\n",
              "      <td>2022-02-14 00:04:38+00:00</td>\n",
              "      <td>68.07</td>\n",
              "      <td>97.66</td>\n",
              "      <td>121.41</td>\n",
              "      <td>29726.0</td>\n",
              "      <td>-67.0</td>\n",
              "      <td>84.0</td>\n",
              "      <td>51.0</td>\n",
              "      <td>64.27</td>\n",
              "    </tr>\n",
              "    <tr>\n",
              "      <th>298138</th>\n",
              "      <td>2022-02-14 00:06:38+00:00</td>\n",
              "      <td>70.33</td>\n",
              "      <td>100.25</td>\n",
              "      <td>126.25</td>\n",
              "      <td>29728.0</td>\n",
              "      <td>-67.0</td>\n",
              "      <td>84.0</td>\n",
              "      <td>51.0</td>\n",
              "      <td>66.17</td>\n",
              "    </tr>\n",
              "    <tr>\n",
              "      <th>298139</th>\n",
              "      <td>2022-02-14 00:08:37+00:00</td>\n",
              "      <td>71.37</td>\n",
              "      <td>102.17</td>\n",
              "      <td>124.81</td>\n",
              "      <td>29730.0</td>\n",
              "      <td>-63.0</td>\n",
              "      <td>84.0</td>\n",
              "      <td>52.0</td>\n",
              "      <td>67.37</td>\n",
              "    </tr>\n",
              "    <tr>\n",
              "      <th>...</th>\n",
              "      <td>...</td>\n",
              "      <td>...</td>\n",
              "      <td>...</td>\n",
              "      <td>...</td>\n",
              "      <td>...</td>\n",
              "      <td>...</td>\n",
              "      <td>...</td>\n",
              "      <td>...</td>\n",
              "      <td>...</td>\n",
              "    </tr>\n",
              "    <tr>\n",
              "      <th>71830</th>\n",
              "      <td>2021-02-21 23:51:12+00:00</td>\n",
              "      <td>100.00</td>\n",
              "      <td>157.93</td>\n",
              "      <td>204.85</td>\n",
              "      <td>17794.0</td>\n",
              "      <td>-61.0</td>\n",
              "      <td>78.0</td>\n",
              "      <td>40.0</td>\n",
              "      <td>104.61</td>\n",
              "    </tr>\n",
              "    <tr>\n",
              "      <th>71831</th>\n",
              "      <td>2021-02-21 23:53:12+00:00</td>\n",
              "      <td>99.88</td>\n",
              "      <td>158.41</td>\n",
              "      <td>208.38</td>\n",
              "      <td>17796.0</td>\n",
              "      <td>-61.0</td>\n",
              "      <td>78.0</td>\n",
              "      <td>40.0</td>\n",
              "      <td>104.83</td>\n",
              "    </tr>\n",
              "    <tr>\n",
              "      <th>71832</th>\n",
              "      <td>2021-02-21 23:55:12+00:00</td>\n",
              "      <td>99.84</td>\n",
              "      <td>155.91</td>\n",
              "      <td>203.53</td>\n",
              "      <td>17798.0</td>\n",
              "      <td>-61.0</td>\n",
              "      <td>78.0</td>\n",
              "      <td>40.0</td>\n",
              "      <td>103.16</td>\n",
              "    </tr>\n",
              "    <tr>\n",
              "      <th>71833</th>\n",
              "      <td>2021-02-21 23:57:12+00:00</td>\n",
              "      <td>100.22</td>\n",
              "      <td>155.96</td>\n",
              "      <td>206.71</td>\n",
              "      <td>17800.0</td>\n",
              "      <td>-62.0</td>\n",
              "      <td>79.0</td>\n",
              "      <td>40.0</td>\n",
              "      <td>103.38</td>\n",
              "    </tr>\n",
              "    <tr>\n",
              "      <th>71834</th>\n",
              "      <td>2021-02-21 23:59:12+00:00</td>\n",
              "      <td>95.91</td>\n",
              "      <td>153.41</td>\n",
              "      <td>200.43</td>\n",
              "      <td>17802.0</td>\n",
              "      <td>-61.0</td>\n",
              "      <td>78.0</td>\n",
              "      <td>40.0</td>\n",
              "      <td>101.23</td>\n",
              "    </tr>\n",
              "  </tbody>\n",
              "</table>\n",
              "<p>236379 rows × 9 columns</p>\n",
              "</div>\n",
              "      <button class=\"colab-df-convert\" onclick=\"convertToInteractive('df-4effc6da-7bc5-4980-a524-d39b94bababc')\"\n",
              "              title=\"Convert this dataframe to an interactive table.\"\n",
              "              style=\"display:none;\">\n",
              "        \n",
              "  <svg xmlns=\"http://www.w3.org/2000/svg\" height=\"24px\"viewBox=\"0 0 24 24\"\n",
              "       width=\"24px\">\n",
              "    <path d=\"M0 0h24v24H0V0z\" fill=\"none\"/>\n",
              "    <path d=\"M18.56 5.44l.94 2.06.94-2.06 2.06-.94-2.06-.94-.94-2.06-.94 2.06-2.06.94zm-11 1L8.5 8.5l.94-2.06 2.06-.94-2.06-.94L8.5 2.5l-.94 2.06-2.06.94zm10 10l.94 2.06.94-2.06 2.06-.94-2.06-.94-.94-2.06-.94 2.06-2.06.94z\"/><path d=\"M17.41 7.96l-1.37-1.37c-.4-.4-.92-.59-1.43-.59-.52 0-1.04.2-1.43.59L10.3 9.45l-7.72 7.72c-.78.78-.78 2.05 0 2.83L4 21.41c.39.39.9.59 1.41.59.51 0 1.02-.2 1.41-.59l7.78-7.78 2.81-2.81c.8-.78.8-2.07 0-2.86zM5.41 20L4 18.59l7.72-7.72 1.47 1.35L5.41 20z\"/>\n",
              "  </svg>\n",
              "      </button>\n",
              "      \n",
              "  <style>\n",
              "    .colab-df-container {\n",
              "      display:flex;\n",
              "      flex-wrap:wrap;\n",
              "      gap: 12px;\n",
              "    }\n",
              "\n",
              "    .colab-df-convert {\n",
              "      background-color: #E8F0FE;\n",
              "      border: none;\n",
              "      border-radius: 50%;\n",
              "      cursor: pointer;\n",
              "      display: none;\n",
              "      fill: #1967D2;\n",
              "      height: 32px;\n",
              "      padding: 0 0 0 0;\n",
              "      width: 32px;\n",
              "    }\n",
              "\n",
              "    .colab-df-convert:hover {\n",
              "      background-color: #E2EBFA;\n",
              "      box-shadow: 0px 1px 2px rgba(60, 64, 67, 0.3), 0px 1px 3px 1px rgba(60, 64, 67, 0.15);\n",
              "      fill: #174EA6;\n",
              "    }\n",
              "\n",
              "    [theme=dark] .colab-df-convert {\n",
              "      background-color: #3B4455;\n",
              "      fill: #D2E3FC;\n",
              "    }\n",
              "\n",
              "    [theme=dark] .colab-df-convert:hover {\n",
              "      background-color: #434B5C;\n",
              "      box-shadow: 0px 1px 3px 1px rgba(0, 0, 0, 0.15);\n",
              "      filter: drop-shadow(0px 1px 2px rgba(0, 0, 0, 0.3));\n",
              "      fill: #FFFFFF;\n",
              "    }\n",
              "  </style>\n",
              "\n",
              "      <script>\n",
              "        const buttonEl =\n",
              "          document.querySelector('#df-4effc6da-7bc5-4980-a524-d39b94bababc button.colab-df-convert');\n",
              "        buttonEl.style.display =\n",
              "          google.colab.kernel.accessAllowed ? 'block' : 'none';\n",
              "\n",
              "        async function convertToInteractive(key) {\n",
              "          const element = document.querySelector('#df-4effc6da-7bc5-4980-a524-d39b94bababc');\n",
              "          const dataTable =\n",
              "            await google.colab.kernel.invokeFunction('convertToInteractive',\n",
              "                                                     [key], {});\n",
              "          if (!dataTable) return;\n",
              "\n",
              "          const docLinkHtml = 'Like what you see? Visit the ' +\n",
              "            '<a target=\"_blank\" href=https://colab.research.google.com/notebooks/data_table.ipynb>data table notebook</a>'\n",
              "            + ' to learn more about interactive tables.';\n",
              "          element.innerHTML = '';\n",
              "          dataTable['output_type'] = 'display_data';\n",
              "          await google.colab.output.renderOutput(dataTable, element);\n",
              "          const docLink = document.createElement('div');\n",
              "          docLink.innerHTML = docLinkHtml;\n",
              "          element.appendChild(docLink);\n",
              "        }\n",
              "      </script>\n",
              "    </div>\n",
              "  </div>\n",
              "  "
            ],
            "text/plain": [
              "                        created_at  ...  PM2.5 (CF=ATM) ug/m3\n",
              "entry_id                            ...                      \n",
              "298135   2022-02-14 00:00:41+00:00  ...                 66.76\n",
              "298136   2022-02-14 00:02:37+00:00  ...                 64.38\n",
              "298137   2022-02-14 00:04:38+00:00  ...                 64.27\n",
              "298138   2022-02-14 00:06:38+00:00  ...                 66.17\n",
              "298139   2022-02-14 00:08:37+00:00  ...                 67.37\n",
              "...                            ...  ...                   ...\n",
              "71830    2021-02-21 23:51:12+00:00  ...                104.61\n",
              "71831    2021-02-21 23:53:12+00:00  ...                104.83\n",
              "71832    2021-02-21 23:55:12+00:00  ...                103.16\n",
              "71833    2021-02-21 23:57:12+00:00  ...                103.38\n",
              "71834    2021-02-21 23:59:12+00:00  ...                101.23\n",
              "\n",
              "[236379 rows x 9 columns]"
            ]
          },
          "execution_count": null,
          "metadata": {},
          "output_type": "execute_result"
        }
      ],
      "source": [
        "se = Sensor(57207)\n",
        "df = se.parent.get_historical(52,thingspeak_field='primary')\n",
        "df"
      ]
    },
    {
      "cell_type": "markdown",
      "metadata": {
        "id": "4hvCaooxHg0m"
      },
      "source": [
        "Count the number of missing values"
      ]
    },
    {
      "cell_type": "code",
      "execution_count": 12,
      "metadata": {
        "colab": {
          "base_uri": "https://localhost:8080/"
        },
        "id": "3Pd-kViVHjlv",
        "outputId": "342dbc77-c01f-43f9-a6e8-2a66d092f3c1"
      },
      "outputs": [
        {
          "output_type": "execute_result",
          "data": {
            "text/plain": [
              "created_at              0\n",
              "PM1.0 (CF=1) ug/m3      0\n",
              "PM2.5 (CF=1) ug/m3      0\n",
              "PM10.0 (CF=1) ug/m3     0\n",
              "UptimeMinutes           0\n",
              "ADC                     0\n",
              "Temperature_F           0\n",
              "Humidity_%              0\n",
              "PM2.5 (CF=ATM) ug/m3    0\n",
              "dtype: int64"
            ]
          },
          "metadata": {},
          "execution_count": 12
        }
      ],
      "source": [
        "df.isna().sum()"
      ]
    },
    {
      "cell_type": "markdown",
      "metadata": {
        "id": "qn-Rpic2FiGo"
      },
      "source": [
        "This is a 2 min sampled data.  Can we resample it to hourly, 6-hourly, 12-hourly, or even daily mean?"
      ]
    },
    {
      "cell_type": "code",
      "execution_count": null,
      "metadata": {
        "colab": {
          "background_save": true
        },
        "id": "rn539LQDFtej",
        "outputId": "88203452-1add-4582-f0ca-5e4b6f42e288"
      },
      "outputs": [
        {
          "data": {
            "text/plain": [
              "<matplotlib.axes._subplots.AxesSubplot at 0x7f0626c284d0>"
            ]
          },
          "execution_count": null,
          "metadata": {},
          "output_type": "execute_result"
        },
        {
          "data": {
            "image/png": "[encoded data removed]",
            "text/plain": [
              "<Figure size 432x288 with 1 Axes>"
            ]
          },
          "metadata": {},
          "output_type": "display_data"
        }
      ],
      "source": [
        "# So that pandas can easily identify the date values, we make it the index values.\n",
        "df[\"created_at\"] = pd.DatetimeIndex(df[\"created_at\"])\n",
        "dx = df.set_index('created_at')   #ds = df.resample(on='created_at',rule='H').mean()\n",
        "dx_mean = dx.resample('D').mean()  # H, D, M, \n",
        "dx_sum = dx.resample('D').sum()\n",
        "\n",
        "dx_mean['Temperature_F'].plot()\n"
      ]
    },
    {
      "cell_type": "markdown",
      "metadata": {
        "id": "m-57FAm3JHQQ"
      },
      "source": [
        "Sometimes, we will need the moving average to get a clean picture of what is happening"
      ]
    },
    {
      "cell_type": "code",
      "execution_count": null,
      "metadata": {
        "colab": {
          "background_save": true
        },
        "id": "DupDopUlJMRP",
        "outputId": "4ddedf96-3eef-45a3-b132-b24b4f6f06e1"
      },
      "outputs": [
        {
          "data": {
            "text/plain": [
              "<matplotlib.axes._subplots.AxesSubplot at 0x7f0627d1d310>"
            ]
          },
          "execution_count": null,
          "metadata": {},
          "output_type": "execute_result"
        },
        {
          "data": {
            "image/png": "[encoded data removed]",
            "text/plain": [
              "<Figure size 432x288 with 1 Axes>"
            ]
          },
          "metadata": {},
          "output_type": "display_data"
        }
      ],
      "source": [
        "d_ma = dx_mean.rolling(window=5).mean()\n",
        "d_ma['Temperature_F'].plot()"
      ]
    },
    {
      "cell_type": "markdown",
      "metadata": {
        "id": "-_-f1TBLK2mC"
      },
      "source": [
        "Is there any relationship between the variables in Purple air data?  Let's investigate."
      ]
    },
    {
      "cell_type": "code",
      "execution_count": null,
      "metadata": {
        "colab": {
          "background_save": true
        },
        "id": "ocgiQVfrK-Pd",
        "outputId": "395532d7-f964-441c-cdb9-4e1a352a6cdb"
      },
      "outputs": [
        {
          "data": {
            "text/plain": [
              "(19.04530617742902,\n",
              " -1528.1667576599532,\n",
              " 0.11695984829940809,\n",
              " 0.02712388803954207,\n",
              " 8.58313597148474)"
            ]
          },
          "execution_count": null,
          "metadata": {},
          "output_type": "execute_result"
        }
      ],
      "source": [
        "#we look at PM2.5 and temperature\n",
        "dx_mean = dx_mean.dropna(how='all')\n",
        "slope, intercept, r, p, se = stats.linregress(dx_mean['Temperature_F'],dx_mean['PM2.5 (CF=1) ug/m3'])\n",
        "\n",
        "slope, intercept, r, p, se\n",
        "\n"
      ]
    },
    {
      "cell_type": "markdown",
      "metadata": {
        "id": "tAv0tUFaNSAE"
      },
      "source": [
        "How does the correlation change over 7-day, 14-day, 30-day period?"
      ]
    },
    {
      "cell_type": "code",
      "execution_count": null,
      "metadata": {
        "colab": {
          "background_save": true
        },
        "id": "92ojcu3tNZ2q",
        "outputId": "73bcacb9-e51c-4ea3-9007-0f51ce1c50fd"
      },
      "outputs": [
        {
          "data": {
            "text/plain": [
              "<matplotlib.axes._subplots.AxesSubplot at 0x7f06275e6e50>"
            ]
          },
          "execution_count": null,
          "metadata": {},
          "output_type": "execute_result"
        },
        {
          "data": {
            "image/png": "[encoded data removed]",
            "text/plain": [
              "<Figure size 432x288 with 1 Axes>"
            ]
          },
          "metadata": {},
          "output_type": "display_data"
        }
      ],
      "source": [
        "dx_roll_corr = dx_mean['Temperature_F'].rolling(21).corr(dx_mean['PM2.5 (CF=1) ug/m3'])\n",
        "\n",
        "dx_roll_corr.plot()"
      ]
    },
    {
      "cell_type": "markdown",
      "metadata": {
        "id": "O84_L2qwSo6Q"
      },
      "source": [
        "Can we classify the particulate matter for air quality index?"
      ]
    },
    {
      "cell_type": "code",
      "execution_count": null,
      "metadata": {
        "colab": {
          "background_save": true
        },
        "id": "0zCWxl6CSt3q",
        "outputId": "4237820e-b289-4362-a52d-036170b47ded"
      },
      "outputs": [
        {
          "data": {
            "text/html": [
              "\n",
              "  <div id=\"df-8e776d0c-426f-4fd6-8459-a8f6cbaeb100\">\n",
              "    <div class=\"colab-df-container\">\n",
              "      <div>\n",
              "<style scoped>\n",
              "    .dataframe tbody tr th:only-of-type {\n",
              "        vertical-align: middle;\n",
              "    }\n",
              "\n",
              "    .dataframe tbody tr th {\n",
              "        vertical-align: top;\n",
              "    }\n",
              "\n",
              "    .dataframe thead th {\n",
              "        text-align: right;\n",
              "    }\n",
              "</style>\n",
              "<table border=\"1\" class=\"dataframe\">\n",
              "  <thead>\n",
              "    <tr style=\"text-align: right;\">\n",
              "      <th></th>\n",
              "      <th>PM1.0 (CF=1) ug/m3</th>\n",
              "      <th>PM2.5 (CF=1) ug/m3</th>\n",
              "      <th>PM10.0 (CF=1) ug/m3</th>\n",
              "      <th>UptimeMinutes</th>\n",
              "      <th>ADC</th>\n",
              "      <th>Temperature_F</th>\n",
              "      <th>Humidity_%</th>\n",
              "      <th>PM2.5 (CF=ATM) ug/m3</th>\n",
              "      <th>Quality</th>\n",
              "    </tr>\n",
              "    <tr>\n",
              "      <th>created_at</th>\n",
              "      <th></th>\n",
              "      <th></th>\n",
              "      <th></th>\n",
              "      <th></th>\n",
              "      <th></th>\n",
              "      <th></th>\n",
              "      <th></th>\n",
              "      <th></th>\n",
              "      <th></th>\n",
              "    </tr>\n",
              "  </thead>\n",
              "  <tbody>\n",
              "    <tr>\n",
              "      <th>2021-02-15 00:00:00+00:00</th>\n",
              "      <td>34.373319</td>\n",
              "      <td>46.408375</td>\n",
              "      <td>54.133569</td>\n",
              "      <td>8442.000000</td>\n",
              "      <td>-63.025000</td>\n",
              "      <td>93.366667</td>\n",
              "      <td>45.793056</td>\n",
              "      <td>38.713306</td>\n",
              "      <td>Good</td>\n",
              "    </tr>\n",
              "    <tr>\n",
              "      <th>2021-02-16 00:00:00+00:00</th>\n",
              "      <td>39.289125</td>\n",
              "      <td>53.558806</td>\n",
              "      <td>61.815958</td>\n",
              "      <td>9882.000000</td>\n",
              "      <td>-66.843056</td>\n",
              "      <td>92.418056</td>\n",
              "      <td>44.801389</td>\n",
              "      <td>42.577292</td>\n",
              "      <td>Moderate</td>\n",
              "    </tr>\n",
              "    <tr>\n",
              "      <th>2021-02-17 00:00:00+00:00</th>\n",
              "      <td>53.261764</td>\n",
              "      <td>73.725333</td>\n",
              "      <td>84.773403</td>\n",
              "      <td>11322.000000</td>\n",
              "      <td>-63.958333</td>\n",
              "      <td>92.397222</td>\n",
              "      <td>36.873611</td>\n",
              "      <td>52.953722</td>\n",
              "      <td>Moderate</td>\n",
              "    </tr>\n",
              "    <tr>\n",
              "      <th>2021-02-18 00:00:00+00:00</th>\n",
              "      <td>55.090514</td>\n",
              "      <td>88.319944</td>\n",
              "      <td>119.363264</td>\n",
              "      <td>12762.000000</td>\n",
              "      <td>-63.261111</td>\n",
              "      <td>88.065278</td>\n",
              "      <td>20.161111</td>\n",
              "      <td>61.781986</td>\n",
              "      <td>Moderate</td>\n",
              "    </tr>\n",
              "    <tr>\n",
              "      <th>2021-02-19 00:00:00+00:00</th>\n",
              "      <td>67.826750</td>\n",
              "      <td>125.246306</td>\n",
              "      <td>195.350486</td>\n",
              "      <td>14202.852778</td>\n",
              "      <td>-62.819444</td>\n",
              "      <td>85.715278</td>\n",
              "      <td>19.652778</td>\n",
              "      <td>83.564042</td>\n",
              "      <td>Sensitive</td>\n",
              "    </tr>\n",
              "    <tr>\n",
              "      <th>...</th>\n",
              "      <td>...</td>\n",
              "      <td>...</td>\n",
              "      <td>...</td>\n",
              "      <td>...</td>\n",
              "      <td>...</td>\n",
              "      <td>...</td>\n",
              "      <td>...</td>\n",
              "      <td>...</td>\n",
              "      <td>...</td>\n",
              "    </tr>\n",
              "    <tr>\n",
              "      <th>2022-02-16 00:00:00+00:00</th>\n",
              "      <td>48.227208</td>\n",
              "      <td>64.099542</td>\n",
              "      <td>79.664444</td>\n",
              "      <td>33322.000000</td>\n",
              "      <td>-57.580556</td>\n",
              "      <td>90.665278</td>\n",
              "      <td>46.713889</td>\n",
              "      <td>46.872889</td>\n",
              "      <td>Moderate</td>\n",
              "    </tr>\n",
              "    <tr>\n",
              "      <th>2022-02-17 00:00:00+00:00</th>\n",
              "      <td>50.720501</td>\n",
              "      <td>67.581627</td>\n",
              "      <td>83.484381</td>\n",
              "      <td>34761.591099</td>\n",
              "      <td>-58.687065</td>\n",
              "      <td>90.496523</td>\n",
              "      <td>43.983310</td>\n",
              "      <td>48.576523</td>\n",
              "      <td>Moderate</td>\n",
              "    </tr>\n",
              "    <tr>\n",
              "      <th>2022-02-18 00:00:00+00:00</th>\n",
              "      <td>42.879722</td>\n",
              "      <td>57.153639</td>\n",
              "      <td>72.436583</td>\n",
              "      <td>36201.000000</td>\n",
              "      <td>-61.054167</td>\n",
              "      <td>92.515278</td>\n",
              "      <td>46.380556</td>\n",
              "      <td>44.073806</td>\n",
              "      <td>Moderate</td>\n",
              "    </tr>\n",
              "    <tr>\n",
              "      <th>2022-02-19 00:00:00+00:00</th>\n",
              "      <td>44.384833</td>\n",
              "      <td>58.367625</td>\n",
              "      <td>72.809458</td>\n",
              "      <td>37641.298611</td>\n",
              "      <td>-60.123611</td>\n",
              "      <td>91.841667</td>\n",
              "      <td>44.868056</td>\n",
              "      <td>44.765083</td>\n",
              "      <td>Moderate</td>\n",
              "    </tr>\n",
              "    <tr>\n",
              "      <th>2022-02-20 00:00:00+00:00</th>\n",
              "      <td>43.281444</td>\n",
              "      <td>57.623417</td>\n",
              "      <td>74.276361</td>\n",
              "      <td>39082.000000</td>\n",
              "      <td>-60.200000</td>\n",
              "      <td>93.288889</td>\n",
              "      <td>43.238889</td>\n",
              "      <td>44.302736</td>\n",
              "      <td>Moderate</td>\n",
              "    </tr>\n",
              "  </tbody>\n",
              "</table>\n",
              "<p>357 rows × 9 columns</p>\n",
              "</div>\n",
              "      <button class=\"colab-df-convert\" onclick=\"convertToInteractive('df-8e776d0c-426f-4fd6-8459-a8f6cbaeb100')\"\n",
              "              title=\"Convert this dataframe to an interactive table.\"\n",
              "              style=\"display:none;\">\n",
              "        \n",
              "  <svg xmlns=\"http://www.w3.org/2000/svg\" height=\"24px\"viewBox=\"0 0 24 24\"\n",
              "       width=\"24px\">\n",
              "    <path d=\"M0 0h24v24H0V0z\" fill=\"none\"/>\n",
              "    <path d=\"M18.56 5.44l.94 2.06.94-2.06 2.06-.94-2.06-.94-.94-2.06-.94 2.06-2.06.94zm-11 1L8.5 8.5l.94-2.06 2.06-.94-2.06-.94L8.5 2.5l-.94 2.06-2.06.94zm10 10l.94 2.06.94-2.06 2.06-.94-2.06-.94-.94-2.06-.94 2.06-2.06.94z\"/><path d=\"M17.41 7.96l-1.37-1.37c-.4-.4-.92-.59-1.43-.59-.52 0-1.04.2-1.43.59L10.3 9.45l-7.72 7.72c-.78.78-.78 2.05 0 2.83L4 21.41c.39.39.9.59 1.41.59.51 0 1.02-.2 1.41-.59l7.78-7.78 2.81-2.81c.8-.78.8-2.07 0-2.86zM5.41 20L4 18.59l7.72-7.72 1.47 1.35L5.41 20z\"/>\n",
              "  </svg>\n",
              "      </button>\n",
              "      \n",
              "  <style>\n",
              "    .colab-df-container {\n",
              "      display:flex;\n",
              "      flex-wrap:wrap;\n",
              "      gap: 12px;\n",
              "    }\n",
              "\n",
              "    .colab-df-convert {\n",
              "      background-color: #E8F0FE;\n",
              "      border: none;\n",
              "      border-radius: 50%;\n",
              "      cursor: pointer;\n",
              "      display: none;\n",
              "      fill: #1967D2;\n",
              "      height: 32px;\n",
              "      padding: 0 0 0 0;\n",
              "      width: 32px;\n",
              "    }\n",
              "\n",
              "    .colab-df-convert:hover {\n",
              "      background-color: #E2EBFA;\n",
              "      box-shadow: 0px 1px 2px rgba(60, 64, 67, 0.3), 0px 1px 3px 1px rgba(60, 64, 67, 0.15);\n",
              "      fill: #174EA6;\n",
              "    }\n",
              "\n",
              "    [theme=dark] .colab-df-convert {\n",
              "      background-color: #3B4455;\n",
              "      fill: #D2E3FC;\n",
              "    }\n",
              "\n",
              "    [theme=dark] .colab-df-convert:hover {\n",
              "      background-color: #434B5C;\n",
              "      box-shadow: 0px 1px 3px 1px rgba(0, 0, 0, 0.15);\n",
              "      filter: drop-shadow(0px 1px 2px rgba(0, 0, 0, 0.3));\n",
              "      fill: #FFFFFF;\n",
              "    }\n",
              "  </style>\n",
              "\n",
              "      <script>\n",
              "        const buttonEl =\n",
              "          document.querySelector('#df-8e776d0c-426f-4fd6-8459-a8f6cbaeb100 button.colab-df-convert');\n",
              "        buttonEl.style.display =\n",
              "          google.colab.kernel.accessAllowed ? 'block' : 'none';\n",
              "\n",
              "        async function convertToInteractive(key) {\n",
              "          const element = document.querySelector('#df-8e776d0c-426f-4fd6-8459-a8f6cbaeb100');\n",
              "          const dataTable =\n",
              "            await google.colab.kernel.invokeFunction('convertToInteractive',\n",
              "                                                     [key], {});\n",
              "          if (!dataTable) return;\n",
              "\n",
              "          const docLinkHtml = 'Like what you see? Visit the ' +\n",
              "            '<a target=\"_blank\" href=https://colab.research.google.com/notebooks/data_table.ipynb>data table notebook</a>'\n",
              "            + ' to learn more about interactive tables.';\n",
              "          element.innerHTML = '';\n",
              "          dataTable['output_type'] = 'display_data';\n",
              "          await google.colab.output.renderOutput(dataTable, element);\n",
              "          const docLink = document.createElement('div');\n",
              "          docLink.innerHTML = docLinkHtml;\n",
              "          element.appendChild(docLink);\n",
              "        }\n",
              "      </script>\n",
              "    </div>\n",
              "  </div>\n",
              "  "
            ],
            "text/plain": [
              "                           PM1.0 (CF=1) ug/m3  ...    Quality\n",
              "created_at                                     ...           \n",
              "2021-02-15 00:00:00+00:00           34.373319  ...       Good\n",
              "2021-02-16 00:00:00+00:00           39.289125  ...   Moderate\n",
              "2021-02-17 00:00:00+00:00           53.261764  ...   Moderate\n",
              "2021-02-18 00:00:00+00:00           55.090514  ...   Moderate\n",
              "2021-02-19 00:00:00+00:00           67.826750  ...  Sensitive\n",
              "...                                       ...  ...        ...\n",
              "2022-02-16 00:00:00+00:00           48.227208  ...   Moderate\n",
              "2022-02-17 00:00:00+00:00           50.720501  ...   Moderate\n",
              "2022-02-18 00:00:00+00:00           42.879722  ...   Moderate\n",
              "2022-02-19 00:00:00+00:00           44.384833  ...   Moderate\n",
              "2022-02-20 00:00:00+00:00           43.281444  ...   Moderate\n",
              "\n",
              "[357 rows x 9 columns]"
            ]
          },
          "execution_count": null,
          "metadata": {},
          "output_type": "execute_result"
        }
      ],
      "source": [
        "dx_mean.loc[dx_mean['PM2.5 (CF=1) ug/m3']<50,'Quality'] = 'Good'\n",
        "dx_mean.loc[dx_mean['PM2.5 (CF=1) ug/m3'].between(51,100),'Quality'] = 'Moderate'\n",
        "dx_mean.loc[dx_mean['PM2.5 (CF=1) ug/m3'].between(101,150),'Quality'] = 'Sensitive'\n",
        "dx_mean.loc[dx_mean['PM2.5 (CF=1) ug/m3'].between(151,200),'Quality'] = 'Highly sensitive'\n",
        "dx_mean.loc[dx_mean['PM2.5 (CF=1) ug/m3'].between(201,300),'Quality'] = 'Dangerous'\n",
        "dx_mean.loc[dx_mean['PM2.5 (CF=1) ug/m3']>300,'Quality'] = 'Terrible'\n",
        "dx_mean"
      ]
    }
  ],
  "metadata": {
    "colab": {
      "name": "Data processing and manipulation.ipynb",
      "provenance": [],
      "authorship_tag": "ABX9TyOV7mZR2HPlDwILctyZSvOv",
      "include_colab_link": true
    },
    "kernelspec": {
      "display_name": "Python 3",
      "name": "python3"
    },
    "language_info": {
      "name": "python"
    }
  },
  "nbformat": 4,
  "nbformat_minor": 0
}