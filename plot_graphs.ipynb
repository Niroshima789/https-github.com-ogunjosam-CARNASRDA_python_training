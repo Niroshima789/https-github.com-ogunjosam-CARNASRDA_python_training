{
  "nbformat": 4,
  "nbformat_minor": 0,
  "metadata": {
    "colab": {
      "provenance": []
    },
    "kernelspec": {
      "name": "python3",
      "display_name": "Python 3"
    },
    "language_info": {
      "name": "python"
    }
  },
  "cells": [
    {
      "cell_type": "markdown",
      "source": [
        "# Plot graphs\n",
        "\n",
        "1. Use matplotlib and seaborn\n",
        "2. Different types of graphs\n"
      ],
      "metadata": {
        "id": "O2vPog9J5I52"
      }
    },
    {
      "cell_type": "markdown",
      "source": [
        "# Import necessary packages"
      ],
      "metadata": {
        "id": "WXcC_-Kd5lFd"
      }
    },
    {
      "cell_type": "code",
      "execution_count": null,
      "metadata": {
        "id": "MLUJv3FI5FVF"
      },
      "outputs": [],
      "source": [
        "import pandas as pd\n",
        "import numpy as np\n",
        "from matplotlib import pyplot as plt\n",
        "from mpl_toolkits.axes_grid1 import host_subplot\n",
        "import seaborn as sns\n",
        "import datetime"
      ]
    },
    {
      "cell_type": "markdown",
      "source": [
        "# let's import our data and add some columns"
      ],
      "metadata": {
        "id": "jirK37K35o14"
      }
    },
    {
      "cell_type": "code",
      "source": [
        "url  = 'https://github.com/ogunjosam/CARNASRDA_python_training/raw/main/osogbo.csv'\n",
        "\n",
        "# we select column and set index columns\n",
        "xx = pd.read_csv(url,index_col='created_at',usecols=[0,2,3,4,7,8],parse_dates=True)\n",
        "xx['PM1.0_CF1_ug/m3'][xx['PM1.0_CF1_ug/m3'] > 300] = np.nan\n",
        "xx = xx.resample('H').mean()\n",
        "xx['Hour'] = xx.index.hour\n",
        "xx['Day'] = xx.index.day\n",
        "xx['Month'] = xx.index.month\n",
        "\n",
        "xx.loc[xx['PM1.0_CF1_ug/m3']<51,'Quality'] = 'Good'\n",
        "xx.loc[xx['PM1.0_CF1_ug/m3'].between(51,100),'Quality'] = 'Moderate'\n",
        "xx.loc[xx['PM1.0_CF1_ug/m3'].between(101,150),'Quality'] = 'Unhealthy for sensitive groups'\n",
        "xx.loc[xx['PM1.0_CF1_ug/m3'].between(151,200),'Quality'] = 'Unhealthy'\n",
        "xx.loc[xx['PM1.0_CF1_ug/m3'].between(201,300),'Quality'] = 'Very Unhealthy'\n",
        "xx.loc[xx['PM1.0_CF1_ug/m3']>300,'Quality'] = 'Hazardous'\n",
        "\n",
        "xx"
      ],
      "metadata": {
        "colab": {
          "base_uri": "https://localhost:8080/",
          "height": 455
        },
        "id": "vNC2qCnT5t4R",
        "outputId": "a4cd8451-dcda-44b9-a00c-3d584b90346c"
      },
      "execution_count": null,
      "outputs": [
        {
          "output_type": "execute_result",
          "data": {
            "text/plain": [
              "                           PM1.0_CF1_ug/m3  PM2.5_CF1_ug/m3  PM10.0_CF1_ug/m3  \\\n",
              "created_at                                                                      \n",
              "2021-01-01 00:00:00+00:00        47.902000        72.259000         82.220000   \n",
              "2021-01-01 01:00:00+00:00        53.006333        86.183667        110.456667   \n",
              "2021-01-01 02:00:00+00:00        53.058000        88.314667        114.411667   \n",
              "2021-01-01 03:00:00+00:00        51.493667        81.587333         99.405667   \n",
              "2021-01-01 04:00:00+00:00        53.252667        82.738000         97.372333   \n",
              "...                                    ...              ...               ...   \n",
              "2021-12-31 19:00:00+00:00        50.453103        68.777241         87.038966   \n",
              "2021-12-31 20:00:00+00:00        59.513333        81.695333        101.067000   \n",
              "2021-12-31 21:00:00+00:00        57.508214        78.576786         97.284643   \n",
              "2021-12-31 22:00:00+00:00        56.503667        77.536333         96.210667   \n",
              "2021-12-31 23:00:00+00:00        54.125667        73.820000         91.576000   \n",
              "\n",
              "                           Temperature_F  Humidity_%  Hour  Day  Month  \\\n",
              "created_at                                                               \n",
              "2021-01-01 00:00:00+00:00      78.000000   59.166667     0    1      1   \n",
              "2021-01-01 01:00:00+00:00      79.166667   62.433333     1    1      1   \n",
              "2021-01-01 02:00:00+00:00      80.366667   62.900000     2    1      1   \n",
              "2021-01-01 03:00:00+00:00      80.400000   63.800000     3    1      1   \n",
              "2021-01-01 04:00:00+00:00      81.900000   63.833333     4    1      1   \n",
              "...                                  ...         ...   ...  ...    ...   \n",
              "2021-12-31 19:00:00+00:00      87.482759   46.551724    19   31     12   \n",
              "2021-12-31 20:00:00+00:00      85.466667   49.966667    20   31     12   \n",
              "2021-12-31 21:00:00+00:00      84.107143   52.428571    21   31     12   \n",
              "2021-12-31 22:00:00+00:00      83.300000   53.566667    22   31     12   \n",
              "2021-12-31 23:00:00+00:00      82.400000   54.400000    23   31     12   \n",
              "\n",
              "                            Quality  \n",
              "created_at                           \n",
              "2021-01-01 00:00:00+00:00      Good  \n",
              "2021-01-01 01:00:00+00:00  Moderate  \n",
              "2021-01-01 02:00:00+00:00  Moderate  \n",
              "2021-01-01 03:00:00+00:00  Moderate  \n",
              "2021-01-01 04:00:00+00:00  Moderate  \n",
              "...                             ...  \n",
              "2021-12-31 19:00:00+00:00      Good  \n",
              "2021-12-31 20:00:00+00:00  Moderate  \n",
              "2021-12-31 21:00:00+00:00  Moderate  \n",
              "2021-12-31 22:00:00+00:00  Moderate  \n",
              "2021-12-31 23:00:00+00:00  Moderate  \n",
              "\n",
              "[8760 rows x 9 columns]"
            ],
            "text/html": [
              "\n",
              "  <div id=\"df-d52baf39-6e6b-4453-b13c-0b799424c828\">\n",
              "    <div class=\"colab-df-container\">\n",
              "      <div>\n",
              "<style scoped>\n",
              "    .dataframe tbody tr th:only-of-type {\n",
              "        vertical-align: middle;\n",
              "    }\n",
              "\n",
              "    .dataframe tbody tr th {\n",
              "        vertical-align: top;\n",
              "    }\n",
              "\n",
              "    .dataframe thead th {\n",
              "        text-align: right;\n",
              "    }\n",
              "</style>\n",
              "<table border=\"1\" class=\"dataframe\">\n",
              "  <thead>\n",
              "    <tr style=\"text-align: right;\">\n",
              "      <th></th>\n",
              "      <th>PM1.0_CF1_ug/m3</th>\n",
              "      <th>PM2.5_CF1_ug/m3</th>\n",
              "      <th>PM10.0_CF1_ug/m3</th>\n",
              "      <th>Temperature_F</th>\n",
              "      <th>Humidity_%</th>\n",
              "      <th>Hour</th>\n",
              "      <th>Day</th>\n",
              "      <th>Month</th>\n",
              "      <th>Quality</th>\n",
              "    </tr>\n",
              "    <tr>\n",
              "      <th>created_at</th>\n",
              "      <th></th>\n",
              "      <th></th>\n",
              "      <th></th>\n",
              "      <th></th>\n",
              "      <th></th>\n",
              "      <th></th>\n",
              "      <th></th>\n",
              "      <th></th>\n",
              "      <th></th>\n",
              "    </tr>\n",
              "  </thead>\n",
              "  <tbody>\n",
              "    <tr>\n",
              "      <th>2021-01-01 00:00:00+00:00</th>\n",
              "      <td>47.902000</td>\n",
              "      <td>72.259000</td>\n",
              "      <td>82.220000</td>\n",
              "      <td>78.000000</td>\n",
              "      <td>59.166667</td>\n",
              "      <td>0</td>\n",
              "      <td>1</td>\n",
              "      <td>1</td>\n",
              "      <td>Good</td>\n",
              "    </tr>\n",
              "    <tr>\n",
              "      <th>2021-01-01 01:00:00+00:00</th>\n",
              "      <td>53.006333</td>\n",
              "      <td>86.183667</td>\n",
              "      <td>110.456667</td>\n",
              "      <td>79.166667</td>\n",
              "      <td>62.433333</td>\n",
              "      <td>1</td>\n",
              "      <td>1</td>\n",
              "      <td>1</td>\n",
              "      <td>Moderate</td>\n",
              "    </tr>\n",
              "    <tr>\n",
              "      <th>2021-01-01 02:00:00+00:00</th>\n",
              "      <td>53.058000</td>\n",
              "      <td>88.314667</td>\n",
              "      <td>114.411667</td>\n",
              "      <td>80.366667</td>\n",
              "      <td>62.900000</td>\n",
              "      <td>2</td>\n",
              "      <td>1</td>\n",
              "      <td>1</td>\n",
              "      <td>Moderate</td>\n",
              "    </tr>\n",
              "    <tr>\n",
              "      <th>2021-01-01 03:00:00+00:00</th>\n",
              "      <td>51.493667</td>\n",
              "      <td>81.587333</td>\n",
              "      <td>99.405667</td>\n",
              "      <td>80.400000</td>\n",
              "      <td>63.800000</td>\n",
              "      <td>3</td>\n",
              "      <td>1</td>\n",
              "      <td>1</td>\n",
              "      <td>Moderate</td>\n",
              "    </tr>\n",
              "    <tr>\n",
              "      <th>2021-01-01 04:00:00+00:00</th>\n",
              "      <td>53.252667</td>\n",
              "      <td>82.738000</td>\n",
              "      <td>97.372333</td>\n",
              "      <td>81.900000</td>\n",
              "      <td>63.833333</td>\n",
              "      <td>4</td>\n",
              "      <td>1</td>\n",
              "      <td>1</td>\n",
              "      <td>Moderate</td>\n",
              "    </tr>\n",
              "    <tr>\n",
              "      <th>...</th>\n",
              "      <td>...</td>\n",
              "      <td>...</td>\n",
              "      <td>...</td>\n",
              "      <td>...</td>\n",
              "      <td>...</td>\n",
              "      <td>...</td>\n",
              "      <td>...</td>\n",
              "      <td>...</td>\n",
              "      <td>...</td>\n",
              "    </tr>\n",
              "    <tr>\n",
              "      <th>2021-12-31 19:00:00+00:00</th>\n",
              "      <td>50.453103</td>\n",
              "      <td>68.777241</td>\n",
              "      <td>87.038966</td>\n",
              "      <td>87.482759</td>\n",
              "      <td>46.551724</td>\n",
              "      <td>19</td>\n",
              "      <td>31</td>\n",
              "      <td>12</td>\n",
              "      <td>Good</td>\n",
              "    </tr>\n",
              "    <tr>\n",
              "      <th>2021-12-31 20:00:00+00:00</th>\n",
              "      <td>59.513333</td>\n",
              "      <td>81.695333</td>\n",
              "      <td>101.067000</td>\n",
              "      <td>85.466667</td>\n",
              "      <td>49.966667</td>\n",
              "      <td>20</td>\n",
              "      <td>31</td>\n",
              "      <td>12</td>\n",
              "      <td>Moderate</td>\n",
              "    </tr>\n",
              "    <tr>\n",
              "      <th>2021-12-31 21:00:00+00:00</th>\n",
              "      <td>57.508214</td>\n",
              "      <td>78.576786</td>\n",
              "      <td>97.284643</td>\n",
              "      <td>84.107143</td>\n",
              "      <td>52.428571</td>\n",
              "      <td>21</td>\n",
              "      <td>31</td>\n",
              "      <td>12</td>\n",
              "      <td>Moderate</td>\n",
              "    </tr>\n",
              "    <tr>\n",
              "      <th>2021-12-31 22:00:00+00:00</th>\n",
              "      <td>56.503667</td>\n",
              "      <td>77.536333</td>\n",
              "      <td>96.210667</td>\n",
              "      <td>83.300000</td>\n",
              "      <td>53.566667</td>\n",
              "      <td>22</td>\n",
              "      <td>31</td>\n",
              "      <td>12</td>\n",
              "      <td>Moderate</td>\n",
              "    </tr>\n",
              "    <tr>\n",
              "      <th>2021-12-31 23:00:00+00:00</th>\n",
              "      <td>54.125667</td>\n",
              "      <td>73.820000</td>\n",
              "      <td>91.576000</td>\n",
              "      <td>82.400000</td>\n",
              "      <td>54.400000</td>\n",
              "      <td>23</td>\n",
              "      <td>31</td>\n",
              "      <td>12</td>\n",
              "      <td>Moderate</td>\n",
              "    </tr>\n",
              "  </tbody>\n",
              "</table>\n",
              "<p>8760 rows × 9 columns</p>\n",
              "</div>\n",
              "      <button class=\"colab-df-convert\" onclick=\"convertToInteractive('df-d52baf39-6e6b-4453-b13c-0b799424c828')\"\n",
              "              title=\"Convert this dataframe to an interactive table.\"\n",
              "              style=\"display:none;\">\n",
              "        \n",
              "  <svg xmlns=\"http://www.w3.org/2000/svg\" height=\"24px\"viewBox=\"0 0 24 24\"\n",
              "       width=\"24px\">\n",
              "    <path d=\"M0 0h24v24H0V0z\" fill=\"none\"/>\n",
              "    <path d=\"M18.56 5.44l.94 2.06.94-2.06 2.06-.94-2.06-.94-.94-2.06-.94 2.06-2.06.94zm-11 1L8.5 8.5l.94-2.06 2.06-.94-2.06-.94L8.5 2.5l-.94 2.06-2.06.94zm10 10l.94 2.06.94-2.06 2.06-.94-2.06-.94-.94-2.06-.94 2.06-2.06.94z\"/><path d=\"M17.41 7.96l-1.37-1.37c-.4-.4-.92-.59-1.43-.59-.52 0-1.04.2-1.43.59L10.3 9.45l-7.72 7.72c-.78.78-.78 2.05 0 2.83L4 21.41c.39.39.9.59 1.41.59.51 0 1.02-.2 1.41-.59l7.78-7.78 2.81-2.81c.8-.78.8-2.07 0-2.86zM5.41 20L4 18.59l7.72-7.72 1.47 1.35L5.41 20z\"/>\n",
              "  </svg>\n",
              "      </button>\n",
              "      \n",
              "  <style>\n",
              "    .colab-df-container {\n",
              "      display:flex;\n",
              "      flex-wrap:wrap;\n",
              "      gap: 12px;\n",
              "    }\n",
              "\n",
              "    .colab-df-convert {\n",
              "      background-color: #E8F0FE;\n",
              "      border: none;\n",
              "      border-radius: 50%;\n",
              "      cursor: pointer;\n",
              "      display: none;\n",
              "      fill: #1967D2;\n",
              "      height: 32px;\n",
              "      padding: 0 0 0 0;\n",
              "      width: 32px;\n",
              "    }\n",
              "\n",
              "    .colab-df-convert:hover {\n",
              "      background-color: #E2EBFA;\n",
              "      box-shadow: 0px 1px 2px rgba(60, 64, 67, 0.3), 0px 1px 3px 1px rgba(60, 64, 67, 0.15);\n",
              "      fill: #174EA6;\n",
              "    }\n",
              "\n",
              "    [theme=dark] .colab-df-convert {\n",
              "      background-color: #3B4455;\n",
              "      fill: #D2E3FC;\n",
              "    }\n",
              "\n",
              "    [theme=dark] .colab-df-convert:hover {\n",
              "      background-color: #434B5C;\n",
              "      box-shadow: 0px 1px 3px 1px rgba(0, 0, 0, 0.15);\n",
              "      filter: drop-shadow(0px 1px 2px rgba(0, 0, 0, 0.3));\n",
              "      fill: #FFFFFF;\n",
              "    }\n",
              "  </style>\n",
              "\n",
              "      <script>\n",
              "        const buttonEl =\n",
              "          document.querySelector('#df-d52baf39-6e6b-4453-b13c-0b799424c828 button.colab-df-convert');\n",
              "        buttonEl.style.display =\n",
              "          google.colab.kernel.accessAllowed ? 'block' : 'none';\n",
              "\n",
              "        async function convertToInteractive(key) {\n",
              "          const element = document.querySelector('#df-d52baf39-6e6b-4453-b13c-0b799424c828');\n",
              "          const dataTable =\n",
              "            await google.colab.kernel.invokeFunction('convertToInteractive',\n",
              "                                                     [key], {});\n",
              "          if (!dataTable) return;\n",
              "\n",
              "          const docLinkHtml = 'Like what you see? Visit the ' +\n",
              "            '<a target=\"_blank\" href=https://colab.research.google.com/notebooks/data_table.ipynb>data table notebook</a>'\n",
              "            + ' to learn more about interactive tables.';\n",
              "          element.innerHTML = '';\n",
              "          dataTable['output_type'] = 'display_data';\n",
              "          await google.colab.output.renderOutput(dataTable, element);\n",
              "          const docLink = document.createElement('div');\n",
              "          docLink.innerHTML = docLinkHtml;\n",
              "          element.appendChild(docLink);\n",
              "        }\n",
              "      </script>\n",
              "    </div>\n",
              "  </div>\n",
              "  "
            ]
          },
          "metadata": {},
          "execution_count": 21
        }
      ]
    },
    {
      "cell_type": "markdown",
      "source": [
        "# Boxplots"
      ],
      "metadata": {
        "id": "XaWaQOC97LA2"
      }
    },
    {
      "cell_type": "code",
      "source": [
        "sns.boxplot(x='Hour',y='PM1.0_CF1_ug/m3',data=xx,showfliers=False)\n",
        "sns.boxplot(x='Hour',y='Temperature_F',data=xx,showfliers=False)"
      ],
      "metadata": {
        "colab": {
          "base_uri": "https://localhost:8080/",
          "height": 296
        },
        "id": "LNdaFzRN7OcC",
        "outputId": "0ab86eae-45c8-4266-a9d8-93375da97362"
      },
      "execution_count": null,
      "outputs": [
        {
          "output_type": "execute_result",
          "data": {
            "text/plain": [
              "<matplotlib.axes._subplots.AxesSubplot at 0x7f4410212610>"
            ]
          },
          "metadata": {},
          "execution_count": 17
        },
        {
          "output_type": "display_data",
          "data": {
            "text/plain": [
              "<Figure size 432x288 with 1 Axes>"
            ],
            "image/png": "[encoded data removed]"
          },
          "metadata": {
            "needs_background": "light"
          }
        }
      ]
    },
    {
      "cell_type": "markdown",
      "source": [
        "# Categories of air pollution"
      ],
      "metadata": {
        "id": "7i65yPR19lte"
      }
    },
    {
      "cell_type": "code",
      "source": [
        "dd = xx['Quality'].value_counts()\n",
        "dd.columns = ['Label','Values']\n",
        "\n",
        "f,t = plt.subplots()\n",
        "plt.pie(dd,labels=dd.index)"
      ],
      "metadata": {
        "colab": {
          "base_uri": "https://localhost:8080/"
        },
        "id": "jOtySy1N9pnu",
        "outputId": "64a1e339-19b6-4361-c490-b9307cb9c808"
      },
      "execution_count": null,
      "outputs": [
        {
          "output_type": "execute_result",
          "data": {
            "text/plain": [
              "Good                              7302\n",
              "Moderate                           636\n",
              "Unhealthy for sensitive groups      50\n",
              "Unhealthy                            5\n",
              "Very Unhealthy                       5\n",
              "Name: Quality, dtype: int64"
            ]
          },
          "metadata": {},
          "execution_count": 26
        }
      ]
    },
    {
      "cell_type": "code",
      "source": [
        "f,t = plt.subplots()\n",
        "dd.plot(kind='bar')\n",
        "t.set_ylabel('Number of hours')"
      ],
      "metadata": {
        "colab": {
          "base_uri": "https://localhost:8080/",
          "height": 426
        },
        "id": "nU8JWELA_gwZ",
        "outputId": "4947f535-acd0-48ca-ea0f-0014786f6229"
      },
      "execution_count": null,
      "outputs": [
        {
          "output_type": "execute_result",
          "data": {
            "text/plain": [
              "Text(0, 0.5, 'Number of hours')"
            ]
          },
          "metadata": {},
          "execution_count": 27
        },
        {
          "output_type": "display_data",
          "data": {
            "text/plain": [
              "<Figure size 432x288 with 1 Axes>"
            ],
            "image/png": "[encoded data removed]"
          },
          "metadata": {
            "needs_background": "light"
          }
        }
      ]
    },
    {
      "cell_type": "code",
      "source": [
        "f,t = plt.subplots()\n",
        "agg_result = xx.resample('D').max()\n",
        "agg_result['PM1.0_CF1_ug/m3'].plot()\n",
        "t.axhspan(ymin=0,ymax=50,alpha=0.4,color='green')\n",
        "t.text('2022-02-01',25,'Good')\n",
        "t.axhspan(ymin=51,ymax=100,alpha=0.4,color='yellow')\n",
        "t.text('2022-02-01',75,'Moderate')\n",
        "t.axhspan(ymin=101,ymax=150,alpha=0.4,color='orange')\n",
        "t.text('2022-02-01',115,'Unhealthy for \\nsensitive groups')\n",
        "t.axhspan(ymin=151,ymax=200,alpha=0.4,color='red')\n",
        "t.text('2022-02-01',175,'Unhealthy')\n",
        "t.axhspan(ymin=201,ymax=300,alpha=0.4,color='purple')\n",
        "t.text('2022-02-01',250,'Very unhealthy')\n",
        "t.axhspan(ymin=301,ymax=400,alpha=0.4,color='maroon')\n",
        "t.text('2022-02-01',350,'Hazardous')"
      ],
      "metadata": {
        "colab": {
          "base_uri": "https://localhost:8080/",
          "height": 364
        },
        "id": "OYf2RIBp_oDY",
        "outputId": "2933fe32-bfca-4cdb-a7ef-aaf2fabb2f05"
      },
      "execution_count": null,
      "outputs": [
        {
          "output_type": "stream",
          "name": "stderr",
          "text": [
            "/usr/local/lib/python3.7/dist-packages/pandas/core/apply.py:577: FutureWarning: Dropping invalid columns in DataFrameGroupBy.max is deprecated. In a future version, a TypeError will be raised. Before calling .max, select only columns which should be valid for the function.\n",
            "  return f(*args, **kwargs)\n"
          ]
        },
        {
          "output_type": "execute_result",
          "data": {
            "text/plain": [
              "Text(2022-02-01, 350, 'Hazardous')"
            ]
          },
          "metadata": {},
          "execution_count": 30
        },
        {
          "output_type": "display_data",
          "data": {
            "text/plain": [
              "<Figure size 432x288 with 1 Axes>"
            ],
            "image/png": "[encoded data removed]"
          },
          "metadata": {
            "needs_background": "light"
          }
        }
      ]
    }
  ]
}